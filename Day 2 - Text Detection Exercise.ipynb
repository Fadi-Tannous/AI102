{
 "cells": [
  {
   "cell_type": "markdown",
   "metadata": {
    "id": "8rhtXmGOU--T"
   },
   "source": [
    "# Day 2 - Text Detection ##\n",
    "### Objetive: Exercise on Stroke Width Transform & Maximally Stable Extremal Regions ###\n",
    "### Dataset: Handwritten Arabic Image  ###\n",
    "### Please fill in all sections that start with \"# Task\" , sections that start with \"# Step\" are  pre-implemented #######"
   ]
  },
  {
   "cell_type": "markdown",
   "metadata": {
    "id": "yLI2iFiZVRsY"
   },
   "source": [
    "#### Section 1 - Dependencies & Libraries"
   ]
  },
  {
   "cell_type": "code",
   "execution_count": null,
   "metadata": {
    "id": "TMq6HvxxU8nD",
    "scrolled": true
   },
   "outputs": [],
   "source": [
    "# Step 1.1. - Install required libraries\n",
    "!pip3 install numpy swtloc matplotlib deskew opencv-python opencv-contrib-python\n",
    "\n",
    "# Step 1.2. - Restart Kernel Manually\n",
    "# Toolbar -> Kernel -> Restart & Clear Output -> Restart & Clear All Outputs"
   ]
  },
  {
   "cell_type": "code",
   "execution_count": null,
   "metadata": {
    "id": "hAnDcDtTNUn9"
   },
   "outputs": [],
   "source": [
    "# Step 1.3. - Import required libraries\n",
    "import cv2, numpy as np, easyocr, pandas as pd, os, matplotlib.pyplot as plt, swtloc as swt\n",
    "from deskew import determine_skew\n",
    "from skimage.transform import rotate"
   ]
  },
  {
   "cell_type": "markdown",
   "metadata": {
    "id": "GFpvO8ZlVbNz"
   },
   "source": [
    "#### Section 2 - Read Image, define Function to Show Image Inline and Pre-process Image\n",
    "#### For More Information on Preprocessing - See Day 1 Exercise"
   ]
  },
  {
   "cell_type": "code",
   "execution_count": null,
   "metadata": {},
   "outputs": [],
   "source": [
    "# Step 2.1. Read handwritten_arabic.jpg using OpenCV\n",
    "img = cv2.imread('handwritten_arabic.jpg')\n",
    "\n",
    "# Step 2.2. Define function to show opencv image inline using matplotlib\n",
    "def show_image(image, color=None):\n",
    "    imgplot = plt.imshow(image, cmap=color)\n",
    "    plt.show()\n",
    "\n",
    "# Step 2.3. Apply Greyscaling using cv2.cvtColor\n",
    "gray_img = cv2.cvtColor(img, cv2.COLOR_BGR2GRAY)\n",
    "\n",
    "# Step 2.4. Apply Binary Thresholding using cv2.adaptiveThreshold\n",
    "binary_img = cv2.adaptiveThreshold(gray_img, 255, cv2.ADAPTIVE_THRESH_GAUSSIAN_C, cv2.THRESH_BINARY, 11, 5)\n",
    "\n",
    "# Step 2.5. Apply Noise Removal \n",
    "kernel = cv2.getStructuringElement(cv2.MORPH_RECT, (3, 3))\n",
    "denoised_image = cv2.morphologyEx(binary_img, cv2.MORPH_OPEN, kernel)\n",
    "\n",
    "# Step 2.6. Perform Dilation\n",
    "kernel = np.ones((1,1), np.uint8)\n",
    "dilated_image = cv2.dilate(denoised_image, kernel, iterations=1)\n",
    "\n",
    "# Step 2.7. Fix Rotation - Deskewing Image (both the original and the pre-processed one)\n",
    "rotated_image = (rotate(dilated_image, determine_skew(dilated_image), resize=True)*255).astype(np.uint8)\n",
    "rotated_raw_image = (rotate(img, determine_skew(img), resize=True)*255).astype(np.uint8)"
   ]
  },
  {
   "cell_type": "markdown",
   "metadata": {},
   "source": [
    "#### Section 3 - Implement Stroke Width Transform and Highlight Area of Image with Text"
   ]
  },
  {
   "cell_type": "code",
   "execution_count": null,
   "metadata": {
    "id": "mLEBKcKoVs1B",
    "outputId": "aa700b73-ac2b-4c75-e7de-311909ff0eee"
   },
   "outputs": [],
   "source": [
    "# Task 3.1. - Instantiate SWTLocalizer from swtloc library; specifying rotated_raw_image as the input to 'images' parameters\n",
    "# SWT Library automatically performs Grayscaling, Binary Thresholding and Erosion/Dilation.\n",
    "\n",
    "\n",
    "# Task 3.2. - Select the First Image of the output from Task 3.1.\n",
    "\n",
    "\n",
    "# Task 3.3. - Perform TransformImage and Experiment with Different Parameters\n",
    "\n",
    "\n",
    "# Task 3.4. - Perform Letter Localization - Displaying the Results\n"
   ]
  },
  {
   "cell_type": "markdown",
   "metadata": {
    "id": "u38SwD-YVsH7"
   },
   "source": [
    "#### Section 4- Maximally Stable Extremal Regions (MSER)"
   ]
  },
  {
   "cell_type": "code",
   "execution_count": null,
   "metadata": {
    "id": "59f8rsQHVs1B",
    "outputId": "29310649-64a6-4094-ade3-65d9390384b6"
   },
   "outputs": [],
   "source": [
    "# Task 4.1 - Initializing the cv2 MSER_create class; Experimenting with different parameters (min_area, max_area)\n",
    "\n",
    "\n",
    "# Task 4.2 - Detect regions on the pre-processed image (rotated_image).\n",
    "\n",
    "\n",
    "# Task 4.3 - Draw regions on the image.\n",
    "\n",
    "\n",
    "# Task 4.4 - Show the Image with the Rectangles\n"
   ]
  }
 ],
 "metadata": {
  "colab": {
   "provenance": []
  },
  "kernelspec": {
   "display_name": "Python 3 (ipykernel)",
   "language": "python",
   "name": "python3"
  },
  "language_info": {
   "codemirror_mode": {
    "name": "ipython",
    "version": 3
   },
   "file_extension": ".py",
   "mimetype": "text/x-python",
   "name": "python",
   "nbconvert_exporter": "python",
   "pygments_lexer": "ipython3",
   "version": "3.10.11"
  }
 },
 "nbformat": 4,
 "nbformat_minor": 1
}
